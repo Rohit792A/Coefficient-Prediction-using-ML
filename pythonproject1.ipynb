{
  "nbformat": 4,
  "nbformat_minor": 0,
  "metadata": {
    "colab": {
      "name": "pythonproject1.ipynb",
      "provenance": []
    },
    "kernelspec": {
      "name": "python3",
      "display_name": "Python 3"
    },
    "language_info": {
      "name": "python"
    }
  },
  "cells": [
    {
      "cell_type": "code",
      "execution_count": null,
      "metadata": {
        "id": "M4s8M_wKMpkH"
      },
      "outputs": [],
      "source": [
        "from sklearn.linear_model import LinearRegression\n",
        "import random as rd"
      ]
    },
    {
      "cell_type": "code",
      "source": [
        "#create two empty lists\n",
        "feature_set = []\n",
        "target_set = []"
      ],
      "metadata": {
        "id": "hkO66vPdNB9o"
      },
      "execution_count": null,
      "outputs": []
    },
    {
      "cell_type": "code",
      "source": [
        "#get number of rows for data set\n",
        "number_of_rows = 200\n",
        "\n",
        "#Limit the possible values in the data set\n",
        "random_number_limit = 2000"
      ],
      "metadata": {
        "id": "gxUEEkpGNZWx"
      },
      "execution_count": null,
      "outputs": []
    },
    {
      "cell_type": "code",
      "source": [
        "#create the data set\n",
        "\n",
        "#create the feature data set\n",
        "for i in range (0,number_of_rows):\n",
        "  x = rd.randint(0,random_number_limit)\n",
        "  y = rd.randint(0,random_number_limit)\n",
        "  z = rd.randint(0,random_number_limit)\n",
        "\n",
        "  #create a linear function for the target data\n",
        "  function = (15*x) + (8*y) + (3*z)\n",
        "\n",
        "  #Append the data to the list\n",
        "  feature_set.append([x,y,z])\n",
        "  target_set.append(function)"
      ],
      "metadata": {
        "id": "fw0RYNN_OoU4"
      },
      "execution_count": null,
      "outputs": []
    },
    {
      "cell_type": "code",
      "source": [
        "#Create the LinearRegression model\n",
        "model = LinearRegression()\n",
        "model.fit( feature_set , target_set)"
      ],
      "metadata": {
        "colab": {
          "base_uri": "https://localhost:8080/"
        },
        "id": "Vij7lAKAP-ZJ",
        "outputId": "352316e2-515c-4c90-88d6-c56db0f45fca"
      },
      "execution_count": null,
      "outputs": [
        {
          "output_type": "execute_result",
          "data": {
            "text/plain": [
              "LinearRegression()"
            ]
          },
          "metadata": {},
          "execution_count": 50
        }
      ]
    },
    {
      "cell_type": "code",
      "source": [
        "#Create the test data set\n",
        "test_set = [[10,10,0]] #Expected output = funtion(8,10,0) = (15*10) + (8*10) + (3*0) = 230\n",
        "prediction = model.predict(test_set)"
      ],
      "metadata": {
        "id": "NFmwA5P2QUfo"
      },
      "execution_count": null,
      "outputs": []
    },
    {
      "cell_type": "code",
      "source": [
        "print('prediction : ' + str(prediction)+'coefficients:'+str(model.coef_))"
      ],
      "metadata": {
        "colab": {
          "base_uri": "https://localhost:8080/"
        },
        "id": "yGoK4KwsRHpB",
        "outputId": "edaacf88-6aa3-4dbc-90d7-f021a5cb7e25"
      },
      "execution_count": null,
      "outputs": [
        {
          "output_type": "stream",
          "name": "stdout",
          "text": [
            "prediction : [230.]coefficients:[15.  8.  3.]\n"
          ]
        }
      ]
    }
  ]
}